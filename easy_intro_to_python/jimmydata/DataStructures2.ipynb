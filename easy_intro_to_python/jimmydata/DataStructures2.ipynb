{
 "cells": [
  {
   "cell_type": "code",
   "execution_count": 1,
   "metadata": {},
   "outputs": [
    {
     "data": {
      "text/plain": [
       "{'Name': 'Klara Kempf',\n",
       " 'Gender': 'Female',\n",
       " 'Nationality': 'German',\n",
       " 'Car': 'Audi A4'}"
      ]
     },
     "execution_count": 1,
     "metadata": {},
     "output_type": "execute_result"
    }
   ],
   "source": [
    "customer1 = { 'Name':'Klara Kempf', 'Gender':'Female', 'Nationality':'German', 'Car':'Audi A4' }\n",
    "customer1"
   ]
  },
  {
   "cell_type": "code",
   "execution_count": 3,
   "metadata": {},
   "outputs": [
    {
     "data": {
      "text/plain": [
       "'Klara Kempf'"
      ]
     },
     "execution_count": 3,
     "metadata": {},
     "output_type": "execute_result"
    }
   ],
   "source": [
    "customer1['Name']"
   ]
  },
  {
   "cell_type": "code",
   "execution_count": 4,
   "metadata": {},
   "outputs": [
    {
     "data": {
      "text/plain": [
       "'The only way to get rid of temptation is to yield to it'"
      ]
     },
     "execution_count": 4,
     "metadata": {},
     "output_type": "execute_result"
    }
   ],
   "source": [
    "sentence = input('Enter a sentence: ')\n",
    "sentence"
   ]
  },
  {
   "cell_type": "code",
   "execution_count": 5,
   "metadata": {},
   "outputs": [],
   "source": [
    "vowels = [ 'a', 'e', 'i', 'o', 'u' ]"
   ]
  },
  {
   "cell_type": "code",
   "execution_count": 6,
   "metadata": {},
   "outputs": [],
   "source": [
    "vowel_count = {}"
   ]
  },
  {
   "cell_type": "code",
   "execution_count": 7,
   "metadata": {},
   "outputs": [],
   "source": [
    "vowel_count['a'] = 0\n",
    "vowel_count['e'] = 0\n",
    "vowel_count['i'] = 0\n",
    "vowel_count['o'] = 0\n",
    "vowel_count['u'] = 0"
   ]
  },
  {
   "cell_type": "code",
   "execution_count": 8,
   "metadata": {},
   "outputs": [
    {
     "data": {
      "text/plain": [
       "{'a': 0, 'e': 0, 'i': 0, 'o': 0, 'u': 0}"
      ]
     },
     "execution_count": 8,
     "metadata": {},
     "output_type": "execute_result"
    }
   ],
   "source": [
    "vowel_count"
   ]
  },
  {
   "cell_type": "code",
   "execution_count": 9,
   "metadata": {},
   "outputs": [],
   "source": [
    "for ch in list(sentence):\n",
    "    if ch in vowels:\n",
    "        vowel_count[ch] += 1"
   ]
  },
  {
   "cell_type": "code",
   "execution_count": 10,
   "metadata": {},
   "outputs": [
    {
     "data": {
      "text/plain": [
       "{'a': 2, 'e': 4, 'i': 5, 'o': 6, 'u': 0}"
      ]
     },
     "execution_count": 10,
     "metadata": {},
     "output_type": "execute_result"
    }
   ],
   "source": [
    "vowel_count"
   ]
  },
  {
   "cell_type": "code",
   "execution_count": 11,
   "metadata": {},
   "outputs": [
    {
     "name": "stdout",
     "output_type": "stream",
     "text": [
      "Frequency of a: 2\n",
      "Frequency of e: 4\n",
      "Frequency of i: 5\n",
      "Frequency of o: 6\n",
      "Frequency of u: 0\n"
     ]
    }
   ],
   "source": [
    "for k,v in sorted(vowel_count.items()):\n",
    "    print('Frequency of %s: %i' %(k,v))"
   ]
  },
  {
   "cell_type": "code",
   "execution_count": 13,
   "metadata": {},
   "outputs": [],
   "source": [
    "%reset"
   ]
  },
  {
   "cell_type": "code",
   "execution_count": 14,
   "metadata": {},
   "outputs": [
    {
     "data": {
      "text/plain": [
       "'The only way to get rid of temptation is to yield to it'"
      ]
     },
     "execution_count": 14,
     "metadata": {},
     "output_type": "execute_result"
    }
   ],
   "source": [
    "sentence = input('Enter a sentence')\n",
    "sentence"
   ]
  },
  {
   "cell_type": "code",
   "execution_count": 15,
   "metadata": {},
   "outputs": [],
   "source": [
    "vowels = [ 'a', 'e', 'i', 'o', 'u' ]"
   ]
  },
  {
   "cell_type": "code",
   "execution_count": 23,
   "metadata": {},
   "outputs": [],
   "source": [
    "vowel_count = {}\n",
    "for ch in list(sentence):\n",
    "    if ch in vowels:\n",
    "        vowel_count.setdefault(ch,0)\n",
    "        vowel_count[ch] += 1"
   ]
  },
  {
   "cell_type": "code",
   "execution_count": 24,
   "metadata": {},
   "outputs": [
    {
     "data": {
      "text/plain": [
       "{'e': 4, 'o': 6, 'a': 2, 'i': 5}"
      ]
     },
     "execution_count": 24,
     "metadata": {},
     "output_type": "execute_result"
    }
   ],
   "source": [
    "vowel_count"
   ]
  },
  {
   "cell_type": "code",
   "execution_count": 25,
   "metadata": {},
   "outputs": [
    {
     "name": "stdout",
     "output_type": "stream",
     "text": [
      "Frequency of a: 2\n",
      "Frequency of e: 4\n",
      "Frequency of i: 5\n",
      "Frequency of o: 6\n"
     ]
    }
   ],
   "source": [
    "for k,v in sorted(vowel_count.items()):\n",
    "    print('Frequency of %s: %i' %(k,v))"
   ]
  },
  {
   "cell_type": "code",
   "execution_count": 28,
   "metadata": {},
   "outputs": [],
   "source": [
    "customers = {}"
   ]
  },
  {
   "cell_type": "code",
   "execution_count": 30,
   "metadata": {},
   "outputs": [],
   "source": [
    "customers['Klara'] = { 'Name':'Klara Kempf', 'Gender':'Female', 'Nationality':'German', 'Car':'Audi A4' }\n",
    "customers['Eric'] = { 'Name':'Eric Smith', 'Gender':'Male', 'Nationality':'Canadian', 'Car':'Mazda 3' }\n",
    "customers['Sofia'] = { 'Name':'Sofia Sanchez', 'Gender':'Female', 'Nationality':'Chilean', 'Car':'Volkswagen Golf' }"
   ]
  },
  {
   "cell_type": "code",
   "execution_count": 31,
   "metadata": {},
   "outputs": [
    {
     "data": {
      "text/plain": [
       "{'Klara': {'Name': 'Klara Kempf',\n",
       "  'Gender': 'Female',\n",
       "  'Nationality': 'German',\n",
       "  'Car': 'Audi A4'},\n",
       " 'Eric': {'Name': 'Eric Smith',\n",
       "  'Gender': 'Male',\n",
       "  'Nationality': 'Canadian',\n",
       "  'Car': 'Mazda 3'},\n",
       " 'Sofia': {'Name': 'Sofia Sanchez',\n",
       "  'Gender': 'Female',\n",
       "  'Nationality': 'Chilean',\n",
       "  'Car': 'Volkswagen Golf'}}"
      ]
     },
     "execution_count": 31,
     "metadata": {},
     "output_type": "execute_result"
    }
   ],
   "source": [
    "customers"
   ]
  },
  {
   "cell_type": "code",
   "execution_count": 32,
   "metadata": {},
   "outputs": [
    {
     "name": "stdout",
     "output_type": "stream",
     "text": [
      "{'Eric': {'Car': 'Mazda 3',\n",
      "          'Gender': 'Male',\n",
      "          'Name': 'Eric Smith',\n",
      "          'Nationality': 'Canadian'},\n",
      " 'Klara': {'Car': 'Audi A4',\n",
      "           'Gender': 'Female',\n",
      "           'Name': 'Klara Kempf',\n",
      "           'Nationality': 'German'},\n",
      " 'Sofia': {'Car': 'Volkswagen Golf',\n",
      "           'Gender': 'Female',\n",
      "           'Name': 'Sofia Sanchez',\n",
      "           'Nationality': 'Chilean'}}\n"
     ]
    }
   ],
   "source": [
    "import pprint\n",
    "pprint.pprint(customers)"
   ]
  },
  {
   "cell_type": "code",
   "execution_count": 33,
   "metadata": {},
   "outputs": [
    {
     "data": {
      "text/plain": [
       "'Volkswagen Golf'"
      ]
     },
     "execution_count": 33,
     "metadata": {},
     "output_type": "execute_result"
    }
   ],
   "source": [
    "customers['Sofia']['Car']"
   ]
  },
  {
   "cell_type": "code",
   "execution_count": 34,
   "metadata": {},
   "outputs": [],
   "source": [
    "customers['Sofia']['Car'] = ['Volkswagen Golf', 'Honda Civic']"
   ]
  },
  {
   "cell_type": "code",
   "execution_count": 36,
   "metadata": {},
   "outputs": [
    {
     "data": {
      "text/plain": [
       "'Honda Civic'"
      ]
     },
     "execution_count": 36,
     "metadata": {},
     "output_type": "execute_result"
    }
   ],
   "source": [
    "customers['Sofia']['Car'][1]"
   ]
  }
 ],
 "metadata": {
  "interpreter": {
   "hash": "916dbcbb3f70747c44a77c7bcd40155683ae19c65e1c03b4aa3499c5328201f1"
  },
  "kernelspec": {
   "display_name": "Python 3.9.7 64-bit",
   "language": "python",
   "name": "python3"
  },
  "language_info": {
   "codemirror_mode": {
    "name": "ipython",
    "version": 3
   },
   "file_extension": ".py",
   "mimetype": "text/x-python",
   "name": "python",
   "nbconvert_exporter": "python",
   "pygments_lexer": "ipython3",
   "version": "3.9.7"
  },
  "orig_nbformat": 4
 },
 "nbformat": 4,
 "nbformat_minor": 2
}

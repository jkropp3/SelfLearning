{
 "cells": [
  {
   "cell_type": "code",
   "execution_count": 10,
   "metadata": {},
   "outputs": [
    {
     "name": "stdout",
     "output_type": "stream",
     "text": [
      "Hello World!\n"
     ]
    }
   ],
   "source": [
    "print(\"Hello World!\")"
   ]
  },
  {
   "cell_type": "code",
   "execution_count": 11,
   "id": "80531cd4",
   "metadata": {},
   "outputs": [],
   "source": [
    "from time import gmtime as the_time\n",
    "#print(gmtime())"
   ]
  },
  {
   "cell_type": "code",
   "execution_count": 12,
   "id": "db4ffea5",
   "metadata": {},
   "outputs": [
    {
     "name": "stdout",
     "output_type": "stream",
     "text": [
      "time.struct_time(tm_year=2021, tm_mon=11, tm_mday=8, tm_hour=1, tm_min=48, tm_sec=44, tm_wday=0, tm_yday=312, tm_isdst=0)\n"
     ]
    }
   ],
   "source": [
    "print(the_time())"
   ]
  },
  {
   "cell_type": "code",
   "execution_count": 13,
   "id": "b69a7794",
   "metadata": {},
   "outputs": [
    {
     "name": "stdout",
     "output_type": "stream",
     "text": [
      "44\n"
     ]
    }
   ],
   "source": [
    "#Dot notation for objects\n",
    "this_second = the_time().tm_sec\n",
    "print(this_second)"
   ]
  },
  {
   "cell_type": "code",
   "execution_count": 14,
   "id": "bb09b5fe",
   "metadata": {},
   "outputs": [
    {
     "name": "stdout",
     "output_type": "stream",
     "text": [
      "Divisible by 2!\n"
     ]
    }
   ],
   "source": [
    "if this_second % 3 == 0:\n",
    "    print('Divisible by 3!')\n",
    "elif this_second % 2 == 0:\n",
    "    print('Divisible by 2!')\n",
    "else:\n",
    "    print('Default')"
   ]
  },
  {
   "cell_type": "code",
   "execution_count": 15,
   "id": "311d5639",
   "metadata": {},
   "outputs": [
    {
     "name": "stdout",
     "output_type": "stream",
     "text": [
      "time.struct_time(tm_year=2021, tm_mon=11, tm_mday=8, tm_hour=1, tm_min=48, tm_sec=44, tm_wday=0, tm_yday=312, tm_isdst=0)\n"
     ]
    }
   ],
   "source": [
    "import random\n",
    "import time\n",
    "\n",
    "print(time.gmtime())"
   ]
  },
  {
   "cell_type": "code",
   "execution_count": 21,
   "id": "800e9505",
   "metadata": {},
   "outputs": [
    {
     "name": "stdout",
     "output_type": "stream",
     "text": [
      "6\n",
      "This second: 36\n",
      "Divisible by 3!\n",
      "6\n",
      "This second: 42\n",
      "Divisible by 3!\n",
      "4\n",
      "This second: 46\n",
      "Divisible by 2!\n",
      "Iteration complete!\n",
      "6\n",
      "This second: 52\n",
      "Divisible by 2!\n",
      "Iteration complete!\n",
      "4\n",
      "This second: 56\n",
      "Divisible by 2!\n",
      "Iteration complete!\n"
     ]
    }
   ],
   "source": [
    "#for loops\n",
    "for i in range(5):\n",
    "    random_num = random.randint(2,7)\n",
    "    print(random_num)\n",
    "    time.sleep(random_num)\n",
    "\n",
    "    this_second = the_time().tm_sec\n",
    "    print('This second: %s' %this_second)\n",
    "\n",
    "    if this_second % 3 == 0:\n",
    "        print('Divisible by 3!')\n",
    "        continue;\n",
    "    elif this_second % 2 == 0:\n",
    "        print('Divisible by 2!')\n",
    "    else:\n",
    "        print('Default')\n",
    "    \n",
    "    print('Iteration complete!')"
   ]
  }
 ],
 "metadata": {
  "interpreter": {
   "hash": "916dbcbb3f70747c44a77c7bcd40155683ae19c65e1c03b4aa3499c5328201f1"
  },
  "kernelspec": {
   "display_name": "Python 3.9.7 64-bit",
   "language": "python",
   "name": "python3"
  },
  "language_info": {
   "codemirror_mode": {
    "name": "ipython",
    "version": 3
   },
   "file_extension": ".py",
   "mimetype": "text/x-python",
   "name": "python",
   "nbconvert_exporter": "python",
   "pygments_lexer": "ipython3",
   "version": "3.9.7"
  }
 },
 "nbformat": 4,
 "nbformat_minor": 5
}
